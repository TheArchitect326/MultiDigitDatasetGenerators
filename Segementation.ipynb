{
  "nbformat": 4,
  "nbformat_minor": 0,
  "metadata": {
    "colab": {
      "name": "Segementation.ipynb",
      "private_outputs": true,
      "provenance": [],
      "collapsed_sections": []
    },
    "kernelspec": {
      "name": "python3",
      "display_name": "Python 3"
    },
    "language_info": {
      "name": "python"
    }
  },
  "cells": [
    {
      "cell_type": "code",
      "metadata": {
        "id": "dz611y66_vB-"
      },
      "source": [
        "import cv2\n",
        "from matplotlib import pyplot as plt\n",
        "\n",
        "import numpy as np\n",
        "\n",
        "from fastai.vision import get_image_files\n",
        "\n",
        "from google.colab.patches import cv2_imshow\n",
        "\n",
        "from glob import glob\n",
        "\n",
        "import os"
      ],
      "execution_count": null,
      "outputs": []
    },
    {
      "cell_type": "code",
      "metadata": {
        "id": "iVb99PkNIbLW"
      },
      "source": [
        "def segment_image(img):\n",
        "  '''Returns the segmented image and position data'''\n",
        "  grey = 255 - cv2.cvtColor(img, cv2.COLOR_BGR2GRAY)\n",
        "  _, thresh = cv2.threshold(grey, 0, 255, cv2.THRESH_OTSU)\n",
        "  _, labeled, stats, _ = cv2.connectedComponentsWithStats(thresh)\n",
        "\n",
        "  return labeled, stats"
      ],
      "execution_count": null,
      "outputs": []
    },
    {
      "cell_type": "code",
      "metadata": {
        "id": "oR7hL8T5_a9P"
      },
      "source": [
        "def get_digit_mask(img, n):\n",
        "  '''Returns an image mask of a given number from an image'''\n",
        "  labeled, stats = segment_image(img)\n",
        "  bg_label = np.argmax(stats[:, 4])\n",
        "  \n",
        "  masks = [[labeled==i, left] for i, left in enumerate(stats[:, 0]) if i != bg_label]\n",
        "  masks = sorted(masks, key=lambda k: k[1])\n",
        "\n",
        "  final_mask = (labeled==bg_label) * 10\n",
        "\n",
        "  for i, mask in zip(str(n), masks):\n",
        "    final_mask += mask[0] * int(i)\n",
        "\n",
        "  return final_mask"
      ],
      "execution_count": null,
      "outputs": []
    },
    {
      "cell_type": "code",
      "metadata": {
        "id": "ZzqHKijgZ-C0"
      },
      "source": [
        "def filename_to_info(filename):\n",
        "  name = filename.split('/')[-1].split('.')[0]\n",
        "  n = int(name.split('.')[-1])\n",
        "\n",
        "  return n, name"
      ],
      "execution_count": null,
      "outputs": []
    },
    {
      "cell_type": "code",
      "metadata": {
        "id": "xYUNGwM6YGnP"
      },
      "source": [
        "def create_dataset_from_images(name, in_path, out_path=None, fname_fn=None, size=None):\n",
        "  '''Creates a segmentation dataset given a directory and a filename function'''\n",
        "  if not out_path:\n",
        "    out_path = f'{in_path}/{name}'\n",
        "  if not fname_fn:\n",
        "    fname_fn = filename_to_info\n",
        "  if not size:\n",
        "    size = (250, 150)\n",
        "\n",
        "  images, i = get_image_files(in_path), 0\n",
        "\n",
        "  for filename in images:\n",
        "    try:\n",
        "      n, name = fname_fn(filename)\n",
        "\n",
        "      img = cv2.imread(filename)\n",
        "      img = cv2.resize(img, size)\n",
        "\n",
        "      mask = get_digit_mask(img, n)\n",
        "\n",
        "      cv2.imwrite(f'{out_path}/{name}.png', img)\n",
        "      cv2.imwrite(f'{out_path}/{name}_mask.png', mask)\n",
        "\n",
        "    except Exception as e:\n",
        "      i += 1\n",
        "      print(f'Skipped: {filename} due to {e}')\n",
        "\n",
        "  print(f'Total images skipped: {i}')"
      ],
      "execution_count": null,
      "outputs": []
    }
  ]
}